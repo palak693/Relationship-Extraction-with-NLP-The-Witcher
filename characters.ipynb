{
 "cells": [
  {
   "cell_type": "markdown",
   "id": "fa7f8b16-6371-44aa-9017-6432b1d010ed",
   "metadata": {},
   "source": [
    "## L1: Web Scraping 8 Novels for characters"
   ]
  },
  {
   "cell_type": "code",
   "execution_count": 1,
   "id": "6e864353-c86c-4da1-91b1-41f29a0c6993",
   "metadata": {},
   "outputs": [],
   "source": [
    "import pandas as pd\n",
    "import time\n",
    "import selenium"
   ]
  },
  {
   "cell_type": "code",
   "execution_count": 2,
   "id": "f512ef2a-87bb-4ec5-a548-adfa718ec0a5",
   "metadata": {
    "tags": []
   },
   "outputs": [
    {
     "name": "stdout",
     "output_type": "stream",
     "text": [
      "Requirement already satisfied: webdriver-manager in c:\\users\\hi\\anaconda3\\lib\\site-packages (3.8.5)\n",
      "Requirement already satisfied: packaging in c:\\users\\hi\\anaconda3\\lib\\site-packages (from webdriver-manager) (21.0)\n",
      "Requirement already satisfied: requests in c:\\users\\hi\\anaconda3\\lib\\site-packages (from webdriver-manager) (2.26.0)\n",
      "Requirement already satisfied: tqdm in c:\\users\\hi\\anaconda3\\lib\\site-packages (from webdriver-manager) (4.62.3)\n",
      "Requirement already satisfied: python-dotenv in c:\\users\\hi\\anaconda3\\lib\\site-packages (from webdriver-manager) (1.0.0)\n",
      "Requirement already satisfied: pyparsing>=2.0.2 in c:\\users\\hi\\anaconda3\\lib\\site-packages (from packaging->webdriver-manager) (3.0.4)\n",
      "Requirement already satisfied: certifi>=2017.4.17 in c:\\users\\hi\\anaconda3\\lib\\site-packages (from requests->webdriver-manager) (2021.10.8)\n",
      "Requirement already satisfied: charset-normalizer~=2.0.0 in c:\\users\\hi\\anaconda3\\lib\\site-packages (from requests->webdriver-manager) (2.0.4)\n",
      "Requirement already satisfied: idna<4,>=2.5 in c:\\users\\hi\\anaconda3\\lib\\site-packages (from requests->webdriver-manager) (3.2)\n",
      "Requirement already satisfied: urllib3<1.27,>=1.21.1 in c:\\users\\hi\\anaconda3\\lib\\site-packages (from requests->webdriver-manager) (1.26.7)\n",
      "Requirement already satisfied: colorama in c:\\users\\hi\\anaconda3\\lib\\site-packages (from tqdm->webdriver-manager) (0.4.6)\n",
      "Note: you may need to restart the kernel to use updated packages.\n"
     ]
    }
   ],
   "source": [
    "pip install webdriver-manager"
   ]
  },
  {
   "cell_type": "code",
   "execution_count": 3,
   "id": "2b8fbcce-68ea-4c10-9929-fc9ff376201e",
   "metadata": {},
   "outputs": [
    {
     "name": "stderr",
     "output_type": "stream",
     "text": [
      "C:\\Users\\hi\\AppData\\Local\\Temp/ipykernel_18208/1405505143.py:5: DeprecationWarning: executable_path has been deprecated, please pass in a Service object\n",
      "  driver = webdriver.Chrome(ChromeDriverManager().install())\n"
     ]
    }
   ],
   "source": [
    "from selenium import webdriver\n",
    "from webdriver_manager.chrome import ChromeDriverManager\n",
    "\n",
    "#creating a driver\n",
    "driver = webdriver.Chrome(ChromeDriverManager().install()) "
   ]
  },
  {
   "cell_type": "markdown",
   "id": "bb55f235-f90b-4997-8b80-5ef2d588b049",
   "metadata": {
    "tags": []
   },
   "source": [
    "###### Extracting the URL and launching it with the webdriver"
   ]
  },
  {
   "cell_type": "code",
   "execution_count": 4,
   "id": "e3af7680-b4f1-4557-8124-59febc9aa64c",
   "metadata": {},
   "outputs": [],
   "source": [
    "#going to the characters in the book page\n",
    "char_url = \"https://witcher.fandom.com/wiki/Category:Characters_in_the_stories\""
   ]
  },
  {
   "cell_type": "code",
   "execution_count": 5,
   "id": "aeb6e988-1c90-4a5d-a895-df264dd35ecc",
   "metadata": {},
   "outputs": [],
   "source": [
    "#asking the driver to/direct us to that given url above\n",
    "driver.get(char_url)"
   ]
  },
  {
   "cell_type": "markdown",
   "id": "392a328e-dc45-44ab-9209-a697142975e5",
   "metadata": {},
   "source": [
    "![](\"C:/Users/hi/OneDrive/Documents/SEM 6/Project Proposals/DL Pres Pics/fandom page load.png\")  \n"
   ]
  },
  {
   "cell_type": "markdown",
   "id": "3165eaf0-08eb-430f-a7fa-5179d5e8c4e4",
   "metadata": {},
   "source": [
    "###### Extracting the categories with the help of class name; refering to the documentation given in Selenium as:\n",
    "\n",
    "https://selenium-python.readthedocs.io/locating-elements.html"
   ]
  },
  {
   "cell_type": "code",
   "execution_count": 6,
   "id": "650bd576-7813-4e61-bb18-33089e0fc4e6",
   "metadata": {
    "tags": []
   },
   "outputs": [],
   "source": [
    "from selenium.webdriver.common.by import By\n",
    "book_cat = driver.find_element(By.CLASS_NAME, \"category-page__member-link\")\n",
    "#class=\"category-page__member-link\" is the class name for the tag that shows the categories one by one\n",
    "#now this will show just one element because the function is find_element"
   ]
  },
  {
   "cell_type": "code",
   "execution_count": 7,
   "id": "65479393-9beb-4b9d-88a7-3e8c83f92612",
   "metadata": {},
   "outputs": [
    {
     "data": {
      "text/plain": [
       "<selenium.webdriver.remote.webelement.WebElement (session=\"19c2d5d91e47a543ee42719d3fabae7b\", element=\"2fe67117-c272-4419-9e08-4f9a7dfb749d\")>"
      ]
     },
     "execution_count": 7,
     "metadata": {},
     "output_type": "execute_result"
    }
   ],
   "source": [
    "book_cat"
   ]
  },
  {
   "cell_type": "code",
   "execution_count": 8,
   "id": "7cc59d14-7628-4310-9ea8-1c7629b60e86",
   "metadata": {},
   "outputs": [],
   "source": [
    "#defining for all elements\n",
    "book_cats = driver.find_elements(By.CLASS_NAME, \"category-page__member-link\")\n"
   ]
  },
  {
   "cell_type": "code",
   "execution_count": 9,
   "id": "f86fe56b-4138-42b3-abf8-ea9b5653cc71",
   "metadata": {},
   "outputs": [
    {
     "data": {
      "text/plain": [
       "[<selenium.webdriver.remote.webelement.WebElement (session=\"19c2d5d91e47a543ee42719d3fabae7b\", element=\"2fe67117-c272-4419-9e08-4f9a7dfb749d\")>,\n",
       " <selenium.webdriver.remote.webelement.WebElement (session=\"19c2d5d91e47a543ee42719d3fabae7b\", element=\"5c8a8bf0-92d7-440e-8df3-ca7ab079fbdb\")>,\n",
       " <selenium.webdriver.remote.webelement.WebElement (session=\"19c2d5d91e47a543ee42719d3fabae7b\", element=\"e59d14f0-c11d-4e32-a3d4-07dceb713d67\")>,\n",
       " <selenium.webdriver.remote.webelement.WebElement (session=\"19c2d5d91e47a543ee42719d3fabae7b\", element=\"9638838c-a563-4762-b8b3-ad0db31e8672\")>,\n",
       " <selenium.webdriver.remote.webelement.WebElement (session=\"19c2d5d91e47a543ee42719d3fabae7b\", element=\"7884dfdd-90fc-4854-8afb-f96bdc35f3ba\")>,\n",
       " <selenium.webdriver.remote.webelement.WebElement (session=\"19c2d5d91e47a543ee42719d3fabae7b\", element=\"09008241-0411-49fa-8950-72f0d3a11fe4\")>,\n",
       " <selenium.webdriver.remote.webelement.WebElement (session=\"19c2d5d91e47a543ee42719d3fabae7b\", element=\"79cad418-57a7-439b-b2b8-3f23f660e329\")>,\n",
       " <selenium.webdriver.remote.webelement.WebElement (session=\"19c2d5d91e47a543ee42719d3fabae7b\", element=\"86fb70da-9f94-4df5-b3cc-529346e49c35\")>,\n",
       " <selenium.webdriver.remote.webelement.WebElement (session=\"19c2d5d91e47a543ee42719d3fabae7b\", element=\"64195ad1-9c69-4d43-a1a7-e34657960635\")>,\n",
       " <selenium.webdriver.remote.webelement.WebElement (session=\"19c2d5d91e47a543ee42719d3fabae7b\", element=\"6c2c0d9f-a37f-4101-b50d-95edfda6df2d\")>,\n",
       " <selenium.webdriver.remote.webelement.WebElement (session=\"19c2d5d91e47a543ee42719d3fabae7b\", element=\"63108a24-93ba-41b5-b2c9-71a68f0b074c\")>,\n",
       " <selenium.webdriver.remote.webelement.WebElement (session=\"19c2d5d91e47a543ee42719d3fabae7b\", element=\"e5d29fc5-7a8d-4aeb-858f-789e1486a1e7\")>]"
      ]
     },
     "execution_count": 9,
     "metadata": {},
     "output_type": "execute_result"
    }
   ],
   "source": [
    "book_cats"
   ]
  },
  {
   "cell_type": "code",
   "execution_count": 10,
   "id": "c1ae5e36-2fc1-4f52-b7d1-e8f6cfa5fa54",
   "metadata": {},
   "outputs": [
    {
     "data": {
      "text/plain": [
       "'Category:Baptism of Fire characters'"
      ]
     },
     "execution_count": 10,
     "metadata": {},
     "output_type": "execute_result"
    }
   ],
   "source": [
    "book_cats[0].text"
   ]
  },
  {
   "cell_type": "markdown",
   "id": "1177328c-bf9b-4c6e-bd28-1467985fc4e2",
   "metadata": {},
   "source": [
    "So the first book is indeed the same book that was observed on the website. I will now fetch all the href attributes from this whole HTML document concerning the first entry in book_cats."
   ]
  },
  {
   "cell_type": "markdown",
   "id": "62dbadeb-13c4-4c8d-b4c0-1fe17054b0b4",
   "metadata": {},
   "source": [
    "###### Extracting Character Names in the selected book"
   ]
  },
  {
   "cell_type": "code",
   "execution_count": 11,
   "id": "d285488f-6cac-422e-8b84-2acdfdb83f67",
   "metadata": {},
   "outputs": [
    {
     "data": {
      "text/plain": [
       "'https://witcher.fandom.com/wiki/Category:Baptism_of_Fire_characters'"
      ]
     },
     "execution_count": 11,
     "metadata": {},
     "output_type": "execute_result"
    }
   ],
   "source": [
    "book_cats[0].get_attribute('href')"
   ]
  },
  {
   "cell_type": "code",
   "execution_count": 12,
   "id": "016f67d6-3da9-4fe7-9fa8-fd61e06467b8",
   "metadata": {},
   "outputs": [],
   "source": [
    "driver.get(book_cats[0].get_attribute('href'))"
   ]
  },
  {
   "cell_type": "markdown",
   "id": "4dd69a46-2bbf-423b-bf6d-f0372d0de1ae",
   "metadata": {},
   "source": [
    "So upon getting that URL of characters and running it with the help of the driver, the link is launched and it is observed that it contains all the characters in the first book.\n",
    "\n",
    "###### Now I will extract the elements for all these character names"
   ]
  },
  {
   "cell_type": "code",
   "execution_count": 13,
   "id": "ec593a4b-5e0e-4fd6-943d-91d1d56d3627",
   "metadata": {},
   "outputs": [],
   "source": [
    "character_names = driver.find_elements(By.CLASS_NAME, \"category-page__member-link\")"
   ]
  },
  {
   "cell_type": "code",
   "execution_count": 14,
   "id": "e61b3276-5a89-448e-8b62-1aea07308f80",
   "metadata": {
    "tags": []
   },
   "outputs": [
    {
     "data": {
      "text/plain": [
       "[<selenium.webdriver.remote.webelement.WebElement (session=\"19c2d5d91e47a543ee42719d3fabae7b\", element=\"85020d46-474f-4f25-87fb-31d9f03de9f7\")>,\n",
       " <selenium.webdriver.remote.webelement.WebElement (session=\"19c2d5d91e47a543ee42719d3fabae7b\", element=\"4b6fa508-709a-4b0d-a9f6-40f73d8c71fb\")>,\n",
       " <selenium.webdriver.remote.webelement.WebElement (session=\"19c2d5d91e47a543ee42719d3fabae7b\", element=\"12d4df35-bb17-4056-bb67-adca1b9f0eac\")>,\n",
       " <selenium.webdriver.remote.webelement.WebElement (session=\"19c2d5d91e47a543ee42719d3fabae7b\", element=\"7e064a72-7d56-4391-913b-aff2bd476870\")>,\n",
       " <selenium.webdriver.remote.webelement.WebElement (session=\"19c2d5d91e47a543ee42719d3fabae7b\", element=\"73214a52-5915-4793-8e90-e63f2f2d3f86\")>,\n",
       " <selenium.webdriver.remote.webelement.WebElement (session=\"19c2d5d91e47a543ee42719d3fabae7b\", element=\"35b19181-abbf-4d78-8f1e-8fd3c12f2895\")>,\n",
       " <selenium.webdriver.remote.webelement.WebElement (session=\"19c2d5d91e47a543ee42719d3fabae7b\", element=\"c51731e0-b1a2-4f2e-9cde-16c17ab3a859\")>,\n",
       " <selenium.webdriver.remote.webelement.WebElement (session=\"19c2d5d91e47a543ee42719d3fabae7b\", element=\"5c7f2bb4-eec0-4319-835d-f181b60992b5\")>,\n",
       " <selenium.webdriver.remote.webelement.WebElement (session=\"19c2d5d91e47a543ee42719d3fabae7b\", element=\"a348e231-a99e-40a7-aa45-30e80b080bc2\")>,\n",
       " <selenium.webdriver.remote.webelement.WebElement (session=\"19c2d5d91e47a543ee42719d3fabae7b\", element=\"c1065297-e83f-4835-9414-be8f1add5f3e\")>,\n",
       " <selenium.webdriver.remote.webelement.WebElement (session=\"19c2d5d91e47a543ee42719d3fabae7b\", element=\"b30d3633-b7ea-4cda-95e1-0936420091fc\")>,\n",
       " <selenium.webdriver.remote.webelement.WebElement (session=\"19c2d5d91e47a543ee42719d3fabae7b\", element=\"c201332e-cf7e-41b7-9512-7fcc4f90510a\")>,\n",
       " <selenium.webdriver.remote.webelement.WebElement (session=\"19c2d5d91e47a543ee42719d3fabae7b\", element=\"eb1b469b-54ea-47bb-b269-49772a7c436f\")>,\n",
       " <selenium.webdriver.remote.webelement.WebElement (session=\"19c2d5d91e47a543ee42719d3fabae7b\", element=\"89b7870b-3a7d-47d5-ab48-74bc343a4aed\")>,\n",
       " <selenium.webdriver.remote.webelement.WebElement (session=\"19c2d5d91e47a543ee42719d3fabae7b\", element=\"dbd47dc6-298c-405f-9ece-0c5286cd0d17\")>,\n",
       " <selenium.webdriver.remote.webelement.WebElement (session=\"19c2d5d91e47a543ee42719d3fabae7b\", element=\"4477f1ed-cd61-4e11-b151-d4549b321468\")>,\n",
       " <selenium.webdriver.remote.webelement.WebElement (session=\"19c2d5d91e47a543ee42719d3fabae7b\", element=\"9342d36b-0a0a-4e8c-a08f-8a5294895af7\")>,\n",
       " <selenium.webdriver.remote.webelement.WebElement (session=\"19c2d5d91e47a543ee42719d3fabae7b\", element=\"4b9530df-8e4a-47e7-89ab-9cd65b92d846\")>,\n",
       " <selenium.webdriver.remote.webelement.WebElement (session=\"19c2d5d91e47a543ee42719d3fabae7b\", element=\"10d4a7aa-e197-42d4-bd2c-4c90a8d2405d\")>,\n",
       " <selenium.webdriver.remote.webelement.WebElement (session=\"19c2d5d91e47a543ee42719d3fabae7b\", element=\"c6e5aa34-4c1b-4c0a-a093-5c6229e64220\")>,\n",
       " <selenium.webdriver.remote.webelement.WebElement (session=\"19c2d5d91e47a543ee42719d3fabae7b\", element=\"e159283d-204f-4543-9fd8-ffff328ee4c0\")>,\n",
       " <selenium.webdriver.remote.webelement.WebElement (session=\"19c2d5d91e47a543ee42719d3fabae7b\", element=\"dcda2931-0717-4fbc-a205-49e76cbf5083\")>,\n",
       " <selenium.webdriver.remote.webelement.WebElement (session=\"19c2d5d91e47a543ee42719d3fabae7b\", element=\"7f724b16-d4f2-4091-b868-8c1f68d3d2f8\")>,\n",
       " <selenium.webdriver.remote.webelement.WebElement (session=\"19c2d5d91e47a543ee42719d3fabae7b\", element=\"360d03a0-3c35-4ea7-a72b-ac7a1c6095b6\")>,\n",
       " <selenium.webdriver.remote.webelement.WebElement (session=\"19c2d5d91e47a543ee42719d3fabae7b\", element=\"401debdc-60e1-49f2-b7df-81cf969ddc05\")>,\n",
       " <selenium.webdriver.remote.webelement.WebElement (session=\"19c2d5d91e47a543ee42719d3fabae7b\", element=\"173b4d88-192a-4280-824a-254501359569\")>,\n",
       " <selenium.webdriver.remote.webelement.WebElement (session=\"19c2d5d91e47a543ee42719d3fabae7b\", element=\"eda12f1e-87e6-4fbf-8ddf-18f29918e904\")>,\n",
       " <selenium.webdriver.remote.webelement.WebElement (session=\"19c2d5d91e47a543ee42719d3fabae7b\", element=\"27f32a7c-3361-4cbd-abff-0a13f8c3adfa\")>,\n",
       " <selenium.webdriver.remote.webelement.WebElement (session=\"19c2d5d91e47a543ee42719d3fabae7b\", element=\"bcaf15ae-80d8-4e91-a2dc-6f46068008d6\")>,\n",
       " <selenium.webdriver.remote.webelement.WebElement (session=\"19c2d5d91e47a543ee42719d3fabae7b\", element=\"0f01a13c-97ab-488b-adad-8edc697118cc\")>,\n",
       " <selenium.webdriver.remote.webelement.WebElement (session=\"19c2d5d91e47a543ee42719d3fabae7b\", element=\"45c6b097-f1b4-4daa-a2ae-9640cae54712\")>,\n",
       " <selenium.webdriver.remote.webelement.WebElement (session=\"19c2d5d91e47a543ee42719d3fabae7b\", element=\"5c2c8f23-e35e-49d0-bcff-c4ca9b2849bb\")>,\n",
       " <selenium.webdriver.remote.webelement.WebElement (session=\"19c2d5d91e47a543ee42719d3fabae7b\", element=\"8cf050e3-af5c-45af-84bb-9013a11142f7\")>,\n",
       " <selenium.webdriver.remote.webelement.WebElement (session=\"19c2d5d91e47a543ee42719d3fabae7b\", element=\"3849f030-4abb-4adf-a6ef-c5331a947068\")>,\n",
       " <selenium.webdriver.remote.webelement.WebElement (session=\"19c2d5d91e47a543ee42719d3fabae7b\", element=\"ae8f467a-169d-4dd4-93a9-73bba37ae640\")>,\n",
       " <selenium.webdriver.remote.webelement.WebElement (session=\"19c2d5d91e47a543ee42719d3fabae7b\", element=\"b9ebec52-de9e-4bd0-b56a-4512d1139cd3\")>,\n",
       " <selenium.webdriver.remote.webelement.WebElement (session=\"19c2d5d91e47a543ee42719d3fabae7b\", element=\"4cdfe031-0fd9-40e2-9716-d126ed71cfbb\")>,\n",
       " <selenium.webdriver.remote.webelement.WebElement (session=\"19c2d5d91e47a543ee42719d3fabae7b\", element=\"91684530-cf61-4350-9386-fb66b97b0579\")>,\n",
       " <selenium.webdriver.remote.webelement.WebElement (session=\"19c2d5d91e47a543ee42719d3fabae7b\", element=\"50b0e5de-cd0d-44a3-852a-4f1ab53d4afd\")>,\n",
       " <selenium.webdriver.remote.webelement.WebElement (session=\"19c2d5d91e47a543ee42719d3fabae7b\", element=\"b8a28093-3d11-4032-95d1-f768617cc7dd\")>,\n",
       " <selenium.webdriver.remote.webelement.WebElement (session=\"19c2d5d91e47a543ee42719d3fabae7b\", element=\"2c42f9ac-b2c6-463a-8adb-ea532c7b2a05\")>,\n",
       " <selenium.webdriver.remote.webelement.WebElement (session=\"19c2d5d91e47a543ee42719d3fabae7b\", element=\"1c44dbf6-8572-489a-bb61-6c336a3d8e66\")>,\n",
       " <selenium.webdriver.remote.webelement.WebElement (session=\"19c2d5d91e47a543ee42719d3fabae7b\", element=\"5b3743d4-2a03-4ff8-a255-81e5f479040f\")>,\n",
       " <selenium.webdriver.remote.webelement.WebElement (session=\"19c2d5d91e47a543ee42719d3fabae7b\", element=\"a6fac873-1e17-4004-8118-657c062e44eb\")>,\n",
       " <selenium.webdriver.remote.webelement.WebElement (session=\"19c2d5d91e47a543ee42719d3fabae7b\", element=\"72c09224-47be-45cb-bf16-9fe8f88809e2\")>,\n",
       " <selenium.webdriver.remote.webelement.WebElement (session=\"19c2d5d91e47a543ee42719d3fabae7b\", element=\"91861f09-17db-42c6-b133-9669d13e222b\")>,\n",
       " <selenium.webdriver.remote.webelement.WebElement (session=\"19c2d5d91e47a543ee42719d3fabae7b\", element=\"c92ce613-573d-42a0-8cc0-28e792d874e5\")>,\n",
       " <selenium.webdriver.remote.webelement.WebElement (session=\"19c2d5d91e47a543ee42719d3fabae7b\", element=\"1e5178c9-b875-4574-b642-cafccd7a431f\")>,\n",
       " <selenium.webdriver.remote.webelement.WebElement (session=\"19c2d5d91e47a543ee42719d3fabae7b\", element=\"8729dc7a-7af7-4caf-9113-53264179c406\")>,\n",
       " <selenium.webdriver.remote.webelement.WebElement (session=\"19c2d5d91e47a543ee42719d3fabae7b\", element=\"14d8c9bc-46d8-4e44-9398-48b5d6af5158\")>,\n",
       " <selenium.webdriver.remote.webelement.WebElement (session=\"19c2d5d91e47a543ee42719d3fabae7b\", element=\"6be92f75-08de-46d0-8fcb-8aa9e0423a39\")>,\n",
       " <selenium.webdriver.remote.webelement.WebElement (session=\"19c2d5d91e47a543ee42719d3fabae7b\", element=\"3ff27231-778f-47e5-9771-01e96a1f027a\")>,\n",
       " <selenium.webdriver.remote.webelement.WebElement (session=\"19c2d5d91e47a543ee42719d3fabae7b\", element=\"42d40f41-50c6-42e4-94f5-0cc8d1874f22\")>,\n",
       " <selenium.webdriver.remote.webelement.WebElement (session=\"19c2d5d91e47a543ee42719d3fabae7b\", element=\"131679a7-567c-48a6-9ab4-7f6a43746000\")>,\n",
       " <selenium.webdriver.remote.webelement.WebElement (session=\"19c2d5d91e47a543ee42719d3fabae7b\", element=\"cc92a41e-46b9-4e1c-a24f-b19595285dcb\")>,\n",
       " <selenium.webdriver.remote.webelement.WebElement (session=\"19c2d5d91e47a543ee42719d3fabae7b\", element=\"5aad0524-0340-4acb-ba79-09baa27d3325\")>,\n",
       " <selenium.webdriver.remote.webelement.WebElement (session=\"19c2d5d91e47a543ee42719d3fabae7b\", element=\"f765ed8f-d8f8-4acd-b377-610b389e0f56\")>,\n",
       " <selenium.webdriver.remote.webelement.WebElement (session=\"19c2d5d91e47a543ee42719d3fabae7b\", element=\"62a87479-622d-401e-a505-c64c7036e499\")>,\n",
       " <selenium.webdriver.remote.webelement.WebElement (session=\"19c2d5d91e47a543ee42719d3fabae7b\", element=\"d139164f-2e6e-4437-95d6-15109836921a\")>,\n",
       " <selenium.webdriver.remote.webelement.WebElement (session=\"19c2d5d91e47a543ee42719d3fabae7b\", element=\"ce179c66-4ef3-4371-9e7c-2229be94394d\")>,\n",
       " <selenium.webdriver.remote.webelement.WebElement (session=\"19c2d5d91e47a543ee42719d3fabae7b\", element=\"f00ffbb4-a156-476a-941e-e84fb692e654\")>,\n",
       " <selenium.webdriver.remote.webelement.WebElement (session=\"19c2d5d91e47a543ee42719d3fabae7b\", element=\"8050b6f8-ad5b-4fcd-9942-cb488e18da2a\")>,\n",
       " <selenium.webdriver.remote.webelement.WebElement (session=\"19c2d5d91e47a543ee42719d3fabae7b\", element=\"6d49459b-f53b-44cf-8854-d403f761fd38\")>,\n",
       " <selenium.webdriver.remote.webelement.WebElement (session=\"19c2d5d91e47a543ee42719d3fabae7b\", element=\"18ed1b48-bcf3-4700-b125-7a8ea62b6634\")>,\n",
       " <selenium.webdriver.remote.webelement.WebElement (session=\"19c2d5d91e47a543ee42719d3fabae7b\", element=\"8c11c115-79e1-49d6-870e-c4ad9c596968\")>,\n",
       " <selenium.webdriver.remote.webelement.WebElement (session=\"19c2d5d91e47a543ee42719d3fabae7b\", element=\"74879c2f-8ccd-4587-ae42-76297bed7d5f\")>,\n",
       " <selenium.webdriver.remote.webelement.WebElement (session=\"19c2d5d91e47a543ee42719d3fabae7b\", element=\"5337e9c7-01c7-4636-a607-9c836f484f6e\")>,\n",
       " <selenium.webdriver.remote.webelement.WebElement (session=\"19c2d5d91e47a543ee42719d3fabae7b\", element=\"3fe6d61f-2e11-4cf3-a549-8edf4d2c311d\")>,\n",
       " <selenium.webdriver.remote.webelement.WebElement (session=\"19c2d5d91e47a543ee42719d3fabae7b\", element=\"7eae0b3e-8c19-48ab-beaf-ec3a8f535a2d\")>,\n",
       " <selenium.webdriver.remote.webelement.WebElement (session=\"19c2d5d91e47a543ee42719d3fabae7b\", element=\"53b2f23b-a544-47c5-9193-c09fc662a2cc\")>,\n",
       " <selenium.webdriver.remote.webelement.WebElement (session=\"19c2d5d91e47a543ee42719d3fabae7b\", element=\"227d077c-01c3-4d2b-b6d2-c38e19760e99\")>,\n",
       " <selenium.webdriver.remote.webelement.WebElement (session=\"19c2d5d91e47a543ee42719d3fabae7b\", element=\"7af33272-3ab0-41a5-9e18-a9fe55a3a40d\")>,\n",
       " <selenium.webdriver.remote.webelement.WebElement (session=\"19c2d5d91e47a543ee42719d3fabae7b\", element=\"97fcbd45-e9ef-4e5e-8aac-1ba25a0bb73c\")>,\n",
       " <selenium.webdriver.remote.webelement.WebElement (session=\"19c2d5d91e47a543ee42719d3fabae7b\", element=\"22d27442-7674-4330-a5bb-32262cb363da\")>,\n",
       " <selenium.webdriver.remote.webelement.WebElement (session=\"19c2d5d91e47a543ee42719d3fabae7b\", element=\"bd316f0f-c551-4c73-901b-04ab11ed041e\")>,\n",
       " <selenium.webdriver.remote.webelement.WebElement (session=\"19c2d5d91e47a543ee42719d3fabae7b\", element=\"81e11168-57b0-4bcd-9bff-b132727ca76f\")>,\n",
       " <selenium.webdriver.remote.webelement.WebElement (session=\"19c2d5d91e47a543ee42719d3fabae7b\", element=\"eb453f76-b7fb-4276-a5db-f854e5063033\")>,\n",
       " <selenium.webdriver.remote.webelement.WebElement (session=\"19c2d5d91e47a543ee42719d3fabae7b\", element=\"2a36b79b-4c21-4300-a8a7-70ef2d69666c\")>,\n",
       " <selenium.webdriver.remote.webelement.WebElement (session=\"19c2d5d91e47a543ee42719d3fabae7b\", element=\"4c4039ae-e068-4c06-ab22-643101bdd431\")>,\n",
       " <selenium.webdriver.remote.webelement.WebElement (session=\"19c2d5d91e47a543ee42719d3fabae7b\", element=\"f69ab1b8-14d3-48a1-88dc-5d007e2bc649\")>,\n",
       " <selenium.webdriver.remote.webelement.WebElement (session=\"19c2d5d91e47a543ee42719d3fabae7b\", element=\"f8412f4a-c348-4f55-96ba-d2a199be9886\")>,\n",
       " <selenium.webdriver.remote.webelement.WebElement (session=\"19c2d5d91e47a543ee42719d3fabae7b\", element=\"8125e5cc-5872-48d4-b948-97983f8bb2b6\")>,\n",
       " <selenium.webdriver.remote.webelement.WebElement (session=\"19c2d5d91e47a543ee42719d3fabae7b\", element=\"97768bc6-a9b8-4d70-a30d-44fb18819e00\")>,\n",
       " <selenium.webdriver.remote.webelement.WebElement (session=\"19c2d5d91e47a543ee42719d3fabae7b\", element=\"a59bb892-00bc-422e-908c-9ca1bb0d5ef8\")>,\n",
       " <selenium.webdriver.remote.webelement.WebElement (session=\"19c2d5d91e47a543ee42719d3fabae7b\", element=\"4e03772f-4b89-47d6-9fff-1337135e9693\")>,\n",
       " <selenium.webdriver.remote.webelement.WebElement (session=\"19c2d5d91e47a543ee42719d3fabae7b\", element=\"de00374a-7c95-4319-9df1-4ddb21c47308\")>,\n",
       " <selenium.webdriver.remote.webelement.WebElement (session=\"19c2d5d91e47a543ee42719d3fabae7b\", element=\"8723ed5f-48f7-4b68-8f85-a4a70e0e41aa\")>,\n",
       " <selenium.webdriver.remote.webelement.WebElement (session=\"19c2d5d91e47a543ee42719d3fabae7b\", element=\"60704d65-b36d-42e0-8282-83734b1e6547\")>,\n",
       " <selenium.webdriver.remote.webelement.WebElement (session=\"19c2d5d91e47a543ee42719d3fabae7b\", element=\"79612a11-b4ae-4680-8841-48cfe084b5ff\")>,\n",
       " <selenium.webdriver.remote.webelement.WebElement (session=\"19c2d5d91e47a543ee42719d3fabae7b\", element=\"9ca33a42-7f0e-47f2-8ef5-d54a9819c2c7\")>,\n",
       " <selenium.webdriver.remote.webelement.WebElement (session=\"19c2d5d91e47a543ee42719d3fabae7b\", element=\"7227f886-0640-4781-bdfd-33e19683bf6d\")>,\n",
       " <selenium.webdriver.remote.webelement.WebElement (session=\"19c2d5d91e47a543ee42719d3fabae7b\", element=\"a772458b-7935-4a74-9176-c2b6504fe090\")>,\n",
       " <selenium.webdriver.remote.webelement.WebElement (session=\"19c2d5d91e47a543ee42719d3fabae7b\", element=\"d61d9f75-9cea-4d02-a52c-fb60cdda4d21\")>,\n",
       " <selenium.webdriver.remote.webelement.WebElement (session=\"19c2d5d91e47a543ee42719d3fabae7b\", element=\"87f9381a-acb5-4f81-b14e-db6eae552e6a\")>,\n",
       " <selenium.webdriver.remote.webelement.WebElement (session=\"19c2d5d91e47a543ee42719d3fabae7b\", element=\"a2869c5b-2459-4125-975a-140a0fe8976f\")>,\n",
       " <selenium.webdriver.remote.webelement.WebElement (session=\"19c2d5d91e47a543ee42719d3fabae7b\", element=\"9e54e6ad-d226-42ae-9f3a-842aac606e3f\")>,\n",
       " <selenium.webdriver.remote.webelement.WebElement (session=\"19c2d5d91e47a543ee42719d3fabae7b\", element=\"e42ee8c2-4372-46d8-aa04-d4fc379dd04d\")>,\n",
       " <selenium.webdriver.remote.webelement.WebElement (session=\"19c2d5d91e47a543ee42719d3fabae7b\", element=\"429e0870-74e0-4c21-853c-2518b73feae8\")>,\n",
       " <selenium.webdriver.remote.webelement.WebElement (session=\"19c2d5d91e47a543ee42719d3fabae7b\", element=\"f58be5fc-24be-4a72-b512-568838d443ab\")>,\n",
       " <selenium.webdriver.remote.webelement.WebElement (session=\"19c2d5d91e47a543ee42719d3fabae7b\", element=\"91cdc192-5ad2-447e-bc5b-b31ba5d1d5d1\")>,\n",
       " <selenium.webdriver.remote.webelement.WebElement (session=\"19c2d5d91e47a543ee42719d3fabae7b\", element=\"4b6356bb-96f6-4813-89cc-92e84d91d52e\")>,\n",
       " <selenium.webdriver.remote.webelement.WebElement (session=\"19c2d5d91e47a543ee42719d3fabae7b\", element=\"970d1ce2-051d-4aa5-bfa0-fc6e1b9991a2\")>,\n",
       " <selenium.webdriver.remote.webelement.WebElement (session=\"19c2d5d91e47a543ee42719d3fabae7b\", element=\"8ebe0b2e-0619-4859-a4e0-64d0346921e5\")>,\n",
       " <selenium.webdriver.remote.webelement.WebElement (session=\"19c2d5d91e47a543ee42719d3fabae7b\", element=\"70b86fb8-3eb3-447f-96df-6bc99c45f75f\")>,\n",
       " <selenium.webdriver.remote.webelement.WebElement (session=\"19c2d5d91e47a543ee42719d3fabae7b\", element=\"74d77b51-02b0-4173-9286-d676030bb9d4\")>,\n",
       " <selenium.webdriver.remote.webelement.WebElement (session=\"19c2d5d91e47a543ee42719d3fabae7b\", element=\"076e7cbd-2d6e-4a4a-b74f-f72ca7a1d7b1\")>,\n",
       " <selenium.webdriver.remote.webelement.WebElement (session=\"19c2d5d91e47a543ee42719d3fabae7b\", element=\"8d20cd60-a19e-4a54-95f4-64d398475193\")>,\n",
       " <selenium.webdriver.remote.webelement.WebElement (session=\"19c2d5d91e47a543ee42719d3fabae7b\", element=\"32e47be5-a2f1-4e4b-b567-a5cb2fc1ef89\")>,\n",
       " <selenium.webdriver.remote.webelement.WebElement (session=\"19c2d5d91e47a543ee42719d3fabae7b\", element=\"8f591956-1701-420b-99f5-f4efb149d3ee\")>,\n",
       " <selenium.webdriver.remote.webelement.WebElement (session=\"19c2d5d91e47a543ee42719d3fabae7b\", element=\"295839cf-0068-425c-85a9-61ea5d420da9\")>,\n",
       " <selenium.webdriver.remote.webelement.WebElement (session=\"19c2d5d91e47a543ee42719d3fabae7b\", element=\"fcb17d7d-9dd4-48d0-b4d8-02cc0b40f62a\")>,\n",
       " <selenium.webdriver.remote.webelement.WebElement (session=\"19c2d5d91e47a543ee42719d3fabae7b\", element=\"e1b85f8c-4e50-4db0-b720-73571fb32ae4\")>,\n",
       " <selenium.webdriver.remote.webelement.WebElement (session=\"19c2d5d91e47a543ee42719d3fabae7b\", element=\"2b73c11d-ebb2-4c84-be1e-f5c8084ac7c2\")>,\n",
       " <selenium.webdriver.remote.webelement.WebElement (session=\"19c2d5d91e47a543ee42719d3fabae7b\", element=\"677d93e8-2bf3-4f59-94c9-1b1ab1131690\")>,\n",
       " <selenium.webdriver.remote.webelement.WebElement (session=\"19c2d5d91e47a543ee42719d3fabae7b\", element=\"59504728-628b-49bc-82eb-572c2ea2d53e\")>,\n",
       " <selenium.webdriver.remote.webelement.WebElement (session=\"19c2d5d91e47a543ee42719d3fabae7b\", element=\"364edc17-74f9-4473-bdcf-29ecd9b6e02b\")>,\n",
       " <selenium.webdriver.remote.webelement.WebElement (session=\"19c2d5d91e47a543ee42719d3fabae7b\", element=\"287eafaf-0ee8-4544-9b5f-a0171c2a2387\")>,\n",
       " <selenium.webdriver.remote.webelement.WebElement (session=\"19c2d5d91e47a543ee42719d3fabae7b\", element=\"d088bfe8-c4e7-4c8f-acd3-82f789961090\")>,\n",
       " <selenium.webdriver.remote.webelement.WebElement (session=\"19c2d5d91e47a543ee42719d3fabae7b\", element=\"e7124d2a-d9e2-46ec-9db0-c48072c27823\")>,\n",
       " <selenium.webdriver.remote.webelement.WebElement (session=\"19c2d5d91e47a543ee42719d3fabae7b\", element=\"8a7a48bb-5369-4d7a-99e1-a019cda69e3c\")>,\n",
       " <selenium.webdriver.remote.webelement.WebElement (session=\"19c2d5d91e47a543ee42719d3fabae7b\", element=\"d2e4f2ad-f987-402a-be13-11b4d6e1c7b0\")>,\n",
       " <selenium.webdriver.remote.webelement.WebElement (session=\"19c2d5d91e47a543ee42719d3fabae7b\", element=\"f770e072-4a06-4618-b0e9-10a005ae438c\")>,\n",
       " <selenium.webdriver.remote.webelement.WebElement (session=\"19c2d5d91e47a543ee42719d3fabae7b\", element=\"467053ce-df74-4f76-ad42-c4654160ef58\")>,\n",
       " <selenium.webdriver.remote.webelement.WebElement (session=\"19c2d5d91e47a543ee42719d3fabae7b\", element=\"e63ddd44-a36b-497d-b741-ce5712ecf158\")>,\n",
       " <selenium.webdriver.remote.webelement.WebElement (session=\"19c2d5d91e47a543ee42719d3fabae7b\", element=\"ca448382-1f6c-456a-8419-5ed5e8847660\")>,\n",
       " <selenium.webdriver.remote.webelement.WebElement (session=\"19c2d5d91e47a543ee42719d3fabae7b\", element=\"43d52aab-90b4-474c-8a19-e2b75bec523f\")>,\n",
       " <selenium.webdriver.remote.webelement.WebElement (session=\"19c2d5d91e47a543ee42719d3fabae7b\", element=\"e910b5a4-6b4f-4b03-b896-369854cfdd33\")>,\n",
       " <selenium.webdriver.remote.webelement.WebElement (session=\"19c2d5d91e47a543ee42719d3fabae7b\", element=\"402416f8-8417-4c2a-af1e-d199f265fb83\")>,\n",
       " <selenium.webdriver.remote.webelement.WebElement (session=\"19c2d5d91e47a543ee42719d3fabae7b\", element=\"a58dba88-4ea5-4be5-9c0e-f0c4016f3d33\")>,\n",
       " <selenium.webdriver.remote.webelement.WebElement (session=\"19c2d5d91e47a543ee42719d3fabae7b\", element=\"d104ef39-ad2d-47e0-b39e-399d1f2c2f71\")>,\n",
       " <selenium.webdriver.remote.webelement.WebElement (session=\"19c2d5d91e47a543ee42719d3fabae7b\", element=\"1f11b149-a198-48da-bfee-72fbb676c893\")>,\n",
       " <selenium.webdriver.remote.webelement.WebElement (session=\"19c2d5d91e47a543ee42719d3fabae7b\", element=\"cf3c394b-6205-4045-8717-eefcf150f694\")>,\n",
       " <selenium.webdriver.remote.webelement.WebElement (session=\"19c2d5d91e47a543ee42719d3fabae7b\", element=\"537ce8b5-2c99-4a1b-a14e-b7e0b8bbbf4c\")>,\n",
       " <selenium.webdriver.remote.webelement.WebElement (session=\"19c2d5d91e47a543ee42719d3fabae7b\", element=\"26e45e67-29ad-46c9-896c-01dcd1f3f14c\")>,\n",
       " <selenium.webdriver.remote.webelement.WebElement (session=\"19c2d5d91e47a543ee42719d3fabae7b\", element=\"d58c04e7-2291-4311-bf15-feff4b28abc8\")>,\n",
       " <selenium.webdriver.remote.webelement.WebElement (session=\"19c2d5d91e47a543ee42719d3fabae7b\", element=\"b7677b34-e9e0-4bdc-8cbf-c982a84e41fd\")>,\n",
       " <selenium.webdriver.remote.webelement.WebElement (session=\"19c2d5d91e47a543ee42719d3fabae7b\", element=\"7147eef1-b603-437d-aeb6-e40cffb205b0\")>,\n",
       " <selenium.webdriver.remote.webelement.WebElement (session=\"19c2d5d91e47a543ee42719d3fabae7b\", element=\"bca9b836-da72-482f-a680-b9f22b07fe4e\")>,\n",
       " <selenium.webdriver.remote.webelement.WebElement (session=\"19c2d5d91e47a543ee42719d3fabae7b\", element=\"b7ba7410-6f6e-472f-aefb-e7d9ea105daa\")>,\n",
       " <selenium.webdriver.remote.webelement.WebElement (session=\"19c2d5d91e47a543ee42719d3fabae7b\", element=\"382554b3-4136-47ea-93d2-3bdf38083090\")>,\n",
       " <selenium.webdriver.remote.webelement.WebElement (session=\"19c2d5d91e47a543ee42719d3fabae7b\", element=\"2891de29-dfb8-494a-9869-6192ec25e0eb\")>,\n",
       " <selenium.webdriver.remote.webelement.WebElement (session=\"19c2d5d91e47a543ee42719d3fabae7b\", element=\"6a73f62c-1553-4343-9c22-59ef398a44bf\")>,\n",
       " <selenium.webdriver.remote.webelement.WebElement (session=\"19c2d5d91e47a543ee42719d3fabae7b\", element=\"d1309548-bb92-4c97-8b31-8065179661bd\")>,\n",
       " <selenium.webdriver.remote.webelement.WebElement (session=\"19c2d5d91e47a543ee42719d3fabae7b\", element=\"5532efa6-aacf-4192-a540-6aabd937f63d\")>,\n",
       " <selenium.webdriver.remote.webelement.WebElement (session=\"19c2d5d91e47a543ee42719d3fabae7b\", element=\"425e54c6-8f7a-4b98-af17-20a98c077b10\")>,\n",
       " <selenium.webdriver.remote.webelement.WebElement (session=\"19c2d5d91e47a543ee42719d3fabae7b\", element=\"85c62b52-ffa0-46aa-94f2-a34bd36b9fa0\")>,\n",
       " <selenium.webdriver.remote.webelement.WebElement (session=\"19c2d5d91e47a543ee42719d3fabae7b\", element=\"9020b272-28da-4b59-898a-83ca367ec190\")>]"
      ]
     },
     "execution_count": 14,
     "metadata": {},
     "output_type": "execute_result"
    }
   ],
   "source": [
    "character_names"
   ]
  },
  {
   "cell_type": "code",
   "execution_count": 15,
   "id": "0ad28968-9525-49e2-b9a3-7ed580f176d1",
   "metadata": {},
   "outputs": [],
   "source": [
    "#now after capturing all elements with the class name \"category-page__member-link\"\n",
    "#let me see what the first name is and if it matches with what is given on the webpage"
   ]
  },
  {
   "cell_type": "code",
   "execution_count": 16,
   "id": "c044e4a4-2143-401a-83f4-a970c960b5d9",
   "metadata": {},
   "outputs": [
    {
     "data": {
      "text/plain": [
       "'Adalia'"
      ]
     },
     "execution_count": 16,
     "metadata": {},
     "output_type": "execute_result"
    }
   ],
   "source": [
    "character_names[0].text"
   ]
  },
  {
   "cell_type": "markdown",
   "id": "6f093b07-76d5-4bbe-9236-d99f1afe684c",
   "metadata": {},
   "source": [
    "##### It does :)"
   ]
  },
  {
   "cell_type": "markdown",
   "id": "092db2fe-e98b-4a92-9e4e-99d12b7c2f3f",
   "metadata": {},
   "source": [
    "Now in order to extract all the characters for further relationship extraction, I will build a for loop that will capture all character info and then transform it into a usable CSV file."
   ]
  },
  {
   "cell_type": "markdown",
   "id": "3084f6e6-2652-45d7-9701-ae5bc2e1cc8a",
   "metadata": {},
   "source": [
    "## Instantiating the scraping of all the books present in the categories, scraping all of the URLs, titles, and characters with character names \n",
    "\n",
    "## Transforming that instance into a CSV file"
   ]
  },
  {
   "cell_type": "code",
   "execution_count": 17,
   "id": "24460f79-6603-457f-aba6-350606d58148",
   "metadata": {},
   "outputs": [],
   "source": [
    "from selenium.webdriver.support.ui import WebDriverWait\n",
    "from selenium.webdriver.support import expected_conditions as EC\n",
    "from selenium.webdriver.common.by import By\n",
    "\n",
    "\n",
    "#book_cats = WebDriverWait(driver, 10).until(EC.presence_of_all_elements_located((By.CLASS_NAME, \"category-page__member-link\")))\n",
    "book_cats = WebDriverWait(driver, 30).until(EC.presence_of_all_elements_located((By.CLASS_NAME, \"category-page__member-link\")))\n",
    "#adding a waiting time for the element to still be available in the DOM\n",
    "#it waits for 10s\n",
    "\n",
    "books = []\n",
    "for category in book_cats:\n",
    "    book_url = category.get_attribute('href')\n",
    "    book_name = category.text\n",
    "    books.append({'book_name': book_name, \"url\": book_url})\n"
   ]
  },
  {
   "cell_type": "code",
   "execution_count": 18,
   "id": "08ee7b82-08e4-4586-a156-8636872b491e",
   "metadata": {
    "tags": []
   },
   "outputs": [
    {
     "data": {
      "text/plain": [
       "[{'book_name': 'Adalia', 'url': 'https://witcher.fandom.com/wiki/Adalia'},\n",
       " {'book_name': 'Adela', 'url': 'https://witcher.fandom.com/wiki/Adela'},\n",
       " {'book_name': 'Aen Saevherne',\n",
       "  'url': 'https://witcher.fandom.com/wiki/Aen_Saevherne'},\n",
       " {'book_name': 'Aevenien', 'url': 'https://witcher.fandom.com/wiki/Aevenien'},\n",
       " {'book_name': 'Aglaïs', 'url': 'https://witcher.fandom.com/wiki/Agla%C3%AFs'},\n",
       " {'book_name': 'Albrich', 'url': 'https://witcher.fandom.com/wiki/Albrich'},\n",
       " {'book_name': 'Amavet', 'url': 'https://witcher.fandom.com/wiki/Amavet'},\n",
       " {'book_name': 'Angus Bri Cri',\n",
       "  'url': 'https://witcher.fandom.com/wiki/Angus_Bri_Cri'},\n",
       " {'book_name': 'Anna Kameny',\n",
       "  'url': 'https://witcher.fandom.com/wiki/Anna_Kameny'},\n",
       " {'book_name': 'Anzelm Aubry',\n",
       "  'url': 'https://witcher.fandom.com/wiki/Anzelm_Aubry'},\n",
       " {'book_name': 'Artaud Terranova',\n",
       "  'url': 'https://witcher.fandom.com/wiki/Artaud_Terranova'},\n",
       " {'book_name': 'Asse', 'url': 'https://witcher.fandom.com/wiki/Asse'},\n",
       " {'book_name': 'Assire var Anahid',\n",
       "  'url': 'https://witcher.fandom.com/wiki/Assire_var_Anahid'},\n",
       " {'book_name': 'Aubry (first born)',\n",
       "  'url': 'https://witcher.fandom.com/wiki/Aubry_(first_born)'},\n",
       " {'book_name': 'Augusta Wagner',\n",
       "  'url': 'https://witcher.fandom.com/wiki/Augusta_Wagner'},\n",
       " {'book_name': 'Baron of Casadei',\n",
       "  'url': 'https://witcher.fandom.com/wiki/Baron_of_Casadei'},\n",
       " {'book_name': 'Beatrix of Kovir',\n",
       "  'url': 'https://witcher.fandom.com/wiki/Beatrix_of_Kovir'},\n",
       " {'book_name': 'Bronik', 'url': 'https://witcher.fandom.com/wiki/Bronik'},\n",
       " {'book_name': 'Brouver Hoog',\n",
       "  'url': 'https://witcher.fandom.com/wiki/Brouver_Hoog'},\n",
       " {'book_name': 'Cahir Mawr Dyffryn aep Ceallach',\n",
       "  'url': 'https://witcher.fandom.com/wiki/Cahir_Mawr_Dyffryn_aep_Ceallach'},\n",
       " {'book_name': 'Calanthe', 'url': 'https://witcher.fandom.com/wiki/Calanthe'},\n",
       " {'book_name': 'Caleb Stratton',\n",
       "  'url': 'https://witcher.fandom.com/wiki/Caleb_Stratton'},\n",
       " {'book_name': 'Carduin', 'url': 'https://witcher.fandom.com/wiki/Carduin'},\n",
       " {'book_name': 'Ceallach aep Gruffyd',\n",
       "  'url': 'https://witcher.fandom.com/wiki/Ceallach_aep_Gruffyd'},\n",
       " {'book_name': 'Cerro', 'url': 'https://witcher.fandom.com/wiki/Cerro'},\n",
       " {'book_name': 'Ciaran aep Dearbh',\n",
       "  'url': 'https://witcher.fandom.com/wiki/Ciaran_aep_Dearbh'},\n",
       " {'book_name': 'Ciri', 'url': 'https://witcher.fandom.com/wiki/Ciri'},\n",
       " {'book_name': 'Cirilla Fiona (imposter)',\n",
       "  'url': 'https://witcher.fandom.com/wiki/Cirilla_Fiona_(imposter)'},\n",
       " {'book_name': 'Codringher',\n",
       "  'url': 'https://witcher.fandom.com/wiki/Codringher'},\n",
       " {'book_name': 'Coinneach Dá Reo',\n",
       "  'url': 'https://witcher.fandom.com/wiki/Coinneach_D%C3%A1_Reo'},\n",
       " {'book_name': 'Connor', 'url': 'https://witcher.fandom.com/wiki/Connor'},\n",
       " {'book_name': 'Coram I', 'url': 'https://witcher.fandom.com/wiki/Coram_I'},\n",
       " {'book_name': 'Coram II', 'url': 'https://witcher.fandom.com/wiki/Coram_II'},\n",
       " {'book_name': 'Corbett', 'url': 'https://witcher.fandom.com/wiki/Corbett'},\n",
       " {'book_name': 'Cosmo Baldenvegg',\n",
       "  'url': 'https://witcher.fandom.com/wiki/Cosmo_Baldenvegg'},\n",
       " {'book_name': 'Count Lanier',\n",
       "  'url': 'https://witcher.fandom.com/wiki/Count_Lanier'},\n",
       " {'book_name': 'Cregennan of Lod',\n",
       "  'url': 'https://witcher.fandom.com/wiki/Cregennan_of_Lod'},\n",
       " {'book_name': 'Crispin', 'url': 'https://witcher.fandom.com/wiki/Crispin'},\n",
       " {'book_name': 'Dagorad', 'url': 'https://witcher.fandom.com/wiki/Dagorad'},\n",
       " {'book_name': 'Dandelion',\n",
       "  'url': 'https://witcher.fandom.com/wiki/Dandelion'},\n",
       " {'book_name': 'Daniel Etcheverry',\n",
       "  'url': 'https://witcher.fandom.com/wiki/Daniel_Etcheverry'},\n",
       " {'book_name': 'Demavend III',\n",
       "  'url': 'https://witcher.fandom.com/wiki/Demavend_III'},\n",
       " {'book_name': 'Echel Traighlethan',\n",
       "  'url': 'https://witcher.fandom.com/wiki/Echel_Traighlethan'},\n",
       " {'book_name': 'Effenberg',\n",
       "  'url': 'https://witcher.fandom.com/wiki/Effenberg'},\n",
       " {'book_name': 'Eithné', 'url': 'https://witcher.fandom.com/wiki/Eithn%C3%A9'},\n",
       " {'book_name': 'Elan Trahe',\n",
       "  'url': 'https://witcher.fandom.com/wiki/Elan_Trahe'},\n",
       " {'book_name': 'Elen of Kaedwen',\n",
       "  'url': 'https://witcher.fandom.com/wiki/Elen_of_Kaedwen'},\n",
       " {'book_name': 'Emhyr var Emreis',\n",
       "  'url': 'https://witcher.fandom.com/wiki/Emhyr_var_Emreis'},\n",
       " {'book_name': 'Emiel Regis Rohellec Terzieff-Godefroy',\n",
       "  'url': 'https://witcher.fandom.com/wiki/Emiel_Regis_Rohellec_Terzieff-Godefroy'},\n",
       " {'book_name': 'Ethain', 'url': 'https://witcher.fandom.com/wiki/Ethain'},\n",
       " {'book_name': 'Falka', 'url': 'https://witcher.fandom.com/wiki/Falka'},\n",
       " {'book_name': 'Falka (alias)',\n",
       "  'url': 'https://witcher.fandom.com/wiki/Falka_(alias)'},\n",
       " {'book_name': 'Fauve', 'url': 'https://witcher.fandom.com/wiki/Fauve'},\n",
       " {'book_name': 'Field Marshal Windbag',\n",
       "  'url': 'https://witcher.fandom.com/wiki/Field_Marshal_Windbag'},\n",
       " {'book_name': 'Figgis Merluzzo',\n",
       "  'url': 'https://witcher.fandom.com/wiki/Figgis_Merluzzo'},\n",
       " {'book_name': 'Fiona', 'url': 'https://witcher.fandom.com/wiki/Fiona'},\n",
       " {'book_name': 'Flourens Delannoy',\n",
       "  'url': 'https://witcher.fandom.com/wiki/Flourens_Delannoy'},\n",
       " {'book_name': 'Francesca Findabair',\n",
       "  'url': 'https://witcher.fandom.com/wiki/Francesca_Findabair'},\n",
       " {'book_name': 'Fringilla Vigo',\n",
       "  'url': 'https://witcher.fandom.com/wiki/Fringilla_Vigo'},\n",
       " {'book_name': 'Geralt of Rivia',\n",
       "  'url': 'https://witcher.fandom.com/wiki/Geralt_of_Rivia'},\n",
       " {'book_name': 'Gerhart of Aelle',\n",
       "  'url': 'https://witcher.fandom.com/wiki/Gerhart_of_Aelle'},\n",
       " {'book_name': 'Giselher', 'url': 'https://witcher.fandom.com/wiki/Giselher'},\n",
       " {'book_name': 'Goidemar', 'url': 'https://witcher.fandom.com/wiki/Goidemar'},\n",
       " {'book_name': 'Havekar', 'url': 'https://witcher.fandom.com/wiki/Havekar'},\n",
       " {'book_name': 'Hector Laabs',\n",
       "  'url': 'https://witcher.fandom.com/wiki/Hector_Laabs'},\n",
       " {'book_name': 'Hedwig of Malleore',\n",
       "  'url': 'https://witcher.fandom.com/wiki/Hedwig_of_Malleore'},\n",
       " {'book_name': 'Henselt', 'url': 'https://witcher.fandom.com/wiki/Henselt'},\n",
       " {'book_name': 'Houtborg triplets',\n",
       "  'url': 'https://witcher.fandom.com/wiki/Houtborg_triplets'},\n",
       " {'book_name': 'Ida Emean aep Sivney',\n",
       "  'url': 'https://witcher.fandom.com/wiki/Ida_Emean_aep_Sivney'},\n",
       " {'book_name': 'Iorweth', 'url': 'https://witcher.fandom.com/wiki/Iorweth'},\n",
       " {'book_name': 'Isengrim Faoiltiarna',\n",
       "  'url': 'https://witcher.fandom.com/wiki/Isengrim_Faoiltiarna'},\n",
       " {'book_name': 'Iskra', 'url': 'https://witcher.fandom.com/wiki/Iskra'},\n",
       " {'book_name': 'Istredd', 'url': 'https://witcher.fandom.com/wiki/Istredd'},\n",
       " {'book_name': 'Ithlinne', 'url': 'https://witcher.fandom.com/wiki/Ithlinne'},\n",
       " {'book_name': 'Jacob Fenn',\n",
       "  'url': 'https://witcher.fandom.com/wiki/Jacob_Fenn'},\n",
       " {'book_name': 'Jan Lennep',\n",
       "  'url': 'https://witcher.fandom.com/wiki/Jan_Lennep'},\n",
       " {'book_name': 'Jan Struycken',\n",
       "  'url': 'https://witcher.fandom.com/wiki/Jan_Struycken'},\n",
       " {'book_name': 'Jolie Lanier',\n",
       "  'url': 'https://witcher.fandom.com/wiki/Jolie_Lanier'},\n",
       " {'book_name': 'Kayleigh', 'url': 'https://witcher.fandom.com/wiki/Kayleigh'},\n",
       " {'book_name': 'Keira Metz',\n",
       "  'url': 'https://witcher.fandom.com/wiki/Keira_Metz'},\n",
       " {'book_name': 'Kolda', 'url': 'https://witcher.fandom.com/wiki/Kolda'},\n",
       " {'book_name': 'Lara Dorren',\n",
       "  'url': 'https://witcher.fandom.com/wiki/Lara_Dorren'},\n",
       " {'book_name': 'Leo Bonhart',\n",
       "  'url': 'https://witcher.fandom.com/wiki/Leo_Bonhart'},\n",
       " {'book_name': 'Leticia Charbonneau',\n",
       "  'url': 'https://witcher.fandom.com/wiki/Leticia_Charbonneau'},\n",
       " {'book_name': 'Lucretia Vigo',\n",
       "  'url': 'https://witcher.fandom.com/wiki/Lucretia_Vigo'},\n",
       " {'book_name': 'Margarita Laux-Antille',\n",
       "  'url': 'https://witcher.fandom.com/wiki/Margarita_Laux-Antille'},\n",
       " {'book_name': 'Merlin', 'url': 'https://witcher.fandom.com/wiki/Merlin'},\n",
       " {'book_name': 'Meve', 'url': 'https://witcher.fandom.com/wiki/Meve'},\n",
       " {'book_name': 'Milenka', 'url': 'https://witcher.fandom.com/wiki/Milenka'},\n",
       " {'book_name': 'Millet', 'url': 'https://witcher.fandom.com/wiki/Millet'},\n",
       " {'book_name': 'Milva', 'url': 'https://witcher.fandom.com/wiki/Milva'},\n",
       " {'book_name': 'Mistle', 'url': 'https://witcher.fandom.com/wiki/Mistle'},\n",
       " {'book_name': 'Morteisen',\n",
       "  'url': 'https://witcher.fandom.com/wiki/Morteisen'},\n",
       " {'book_name': 'Munro Bruys',\n",
       "  'url': 'https://witcher.fandom.com/wiki/Munro_Bruys'},\n",
       " {'book_name': 'Muriel', 'url': 'https://witcher.fandom.com/wiki/Muriel'},\n",
       " {'book_name': 'Mykitka', 'url': 'https://witcher.fandom.com/wiki/Mykitka'},\n",
       " {'book_name': 'Nazarian', 'url': 'https://witcher.fandom.com/wiki/Nazarian'},\n",
       " {'book_name': 'Nimue verch Wledyr ap Gwyn',\n",
       "  'url': 'https://witcher.fandom.com/wiki/Nimue_verch_Wledyr_ap_Gwyn'},\n",
       " {'book_name': 'Ori Reuven',\n",
       "  'url': 'https://witcher.fandom.com/wiki/Ori_Reuven'},\n",
       " {'book_name': 'Orla', 'url': 'https://witcher.fandom.com/wiki/Orla'},\n",
       " {'book_name': 'Papebrock',\n",
       "  'url': 'https://witcher.fandom.com/wiki/Papebrock'},\n",
       " {'book_name': 'Percival Schuttenbach',\n",
       "  'url': 'https://witcher.fandom.com/wiki/Percival_Schuttenbach'},\n",
       " {'book_name': 'Philippa Eilhart',\n",
       "  'url': 'https://witcher.fandom.com/wiki/Philippa_Eilhart'},\n",
       " {'book_name': 'Pinto', 'url': 'https://witcher.fandom.com/wiki/Pinto'},\n",
       " {'book_name': 'Radovid V',\n",
       "  'url': 'https://witcher.fandom.com/wiki/Radovid_V'},\n",
       " {'book_name': 'Reef', 'url': 'https://witcher.fandom.com/wiki/Reef'},\n",
       " {'book_name': 'Reynard Odo',\n",
       "  'url': 'https://witcher.fandom.com/wiki/Reynard_Odo'},\n",
       " {'book_name': 'Riannon', 'url': 'https://witcher.fandom.com/wiki/Riannon'},\n",
       " {'book_name': 'Rience', 'url': 'https://witcher.fandom.com/wiki/Rience'},\n",
       " {'book_name': 'Riordain', 'url': 'https://witcher.fandom.com/wiki/Riordain'},\n",
       " {'book_name': 'Roach', 'url': 'https://witcher.fandom.com/wiki/Roach'},\n",
       " {'book_name': 'Robert of Garramone',\n",
       "  'url': 'https://witcher.fandom.com/wiki/Robert_of_Garramone'},\n",
       " {'book_name': 'Roger Kameny',\n",
       "  'url': 'https://witcher.fandom.com/wiki/Roger_Kameny'},\n",
       " {'book_name': 'Sabrina Glevissig',\n",
       "  'url': 'https://witcher.fandom.com/wiki/Sabrina_Glevissig'},\n",
       " {'book_name': 'Schirrú',\n",
       "  'url': 'https://witcher.fandom.com/wiki/Schirr%C3%BA'},\n",
       " {'book_name': 'Servadio', 'url': 'https://witcher.fandom.com/wiki/Servadio'},\n",
       " {'book_name': 'Sheala de Tancarville',\n",
       "  'url': 'https://witcher.fandom.com/wiki/Sheala_de_Tancarville'},\n",
       " {'book_name': 'Shilard Fitz-Oesterlen',\n",
       "  'url': 'https://witcher.fandom.com/wiki/Shilard_Fitz-Oesterlen'},\n",
       " {'book_name': 'Sievers', 'url': 'https://witcher.fandom.com/wiki/Sievers'},\n",
       " {'book_name': 'Sigismund Dijkstra',\n",
       "  'url': 'https://witcher.fandom.com/wiki/Sigismund_Dijkstra'},\n",
       " {'book_name': 'Silvester Bugiardo',\n",
       "  'url': 'https://witcher.fandom.com/wiki/Silvester_Bugiardo'},\n",
       " {'book_name': 'Simlas Finn aep Dabairr',\n",
       "  'url': 'https://witcher.fandom.com/wiki/Simlas_Finn_aep_Dabairr'},\n",
       " {'book_name': 'Sirssa', 'url': 'https://witcher.fandom.com/wiki/Sirssa'},\n",
       " {'book_name': 'Stefan Skellen',\n",
       "  'url': 'https://witcher.fandom.com/wiki/Stefan_Skellen'},\n",
       " {'book_name': 'Stella Congreve',\n",
       "  'url': 'https://witcher.fandom.com/wiki/Stella_Congreve'},\n",
       " {'book_name': 'Stribog', 'url': 'https://witcher.fandom.com/wiki/Stribog'},\n",
       " {'book_name': 'Stucco Zangenis',\n",
       "  'url': 'https://witcher.fandom.com/wiki/Stucco_Zangenis'},\n",
       " {'book_name': 'Talbot', 'url': 'https://witcher.fandom.com/wiki/Talbot'},\n",
       " {'book_name': 'Tissaia de Vries',\n",
       "  'url': 'https://witcher.fandom.com/wiki/Tissaia_de_Vries'},\n",
       " {'book_name': 'Toruviel', 'url': 'https://witcher.fandom.com/wiki/Toruviel'},\n",
       " {'book_name': 'Triss Merigold',\n",
       "  'url': 'https://witcher.fandom.com/wiki/Triss_Merigold'},\n",
       " {'book_name': 'Tugdual', 'url': 'https://witcher.fandom.com/wiki/Tugdual'},\n",
       " {'book_name': 'Tuzik', 'url': 'https://witcher.fandom.com/wiki/Tuzik'},\n",
       " {'book_name': 'Vanadain', 'url': 'https://witcher.fandom.com/wiki/Vanadain'},\n",
       " {'book_name': 'Vascoigne',\n",
       "  'url': 'https://witcher.fandom.com/wiki/Vascoigne'},\n",
       " {'book_name': 'Vattier de Rideaux',\n",
       "  'url': 'https://witcher.fandom.com/wiki/Vattier_de_Rideaux'},\n",
       " {'book_name': 'Vera Loewenhaupt',\n",
       "  'url': 'https://witcher.fandom.com/wiki/Vera_Loewenhaupt'},\n",
       " {'book_name': 'Vilgefortz',\n",
       "  'url': 'https://witcher.fandom.com/wiki/Vilgefortz'},\n",
       " {'book_name': 'Vissegerd',\n",
       "  'url': 'https://witcher.fandom.com/wiki/Vissegerd'},\n",
       " {'book_name': 'Vizimir II',\n",
       "  'url': 'https://witcher.fandom.com/wiki/Vizimir_II'},\n",
       " {'book_name': 'Vreemde', 'url': 'https://witcher.fandom.com/wiki/Vreemde'},\n",
       " {'book_name': 'Vridank', 'url': 'https://witcher.fandom.com/wiki/Vridank'},\n",
       " {'book_name': 'Xarthisius',\n",
       "  'url': 'https://witcher.fandom.com/wiki/Xarthisius'},\n",
       " {'book_name': 'Yazon Varda',\n",
       "  'url': 'https://witcher.fandom.com/wiki/Yazon_Varda'},\n",
       " {'book_name': 'Yennefer of Vengerberg',\n",
       "  'url': 'https://witcher.fandom.com/wiki/Yennefer_of_Vengerberg'},\n",
       " {'book_name': 'Zgarba', 'url': 'https://witcher.fandom.com/wiki/Zgarba'},\n",
       " {'book_name': 'Zoltan Chivay',\n",
       "  'url': 'https://witcher.fandom.com/wiki/Zoltan_Chivay'}]"
      ]
     },
     "execution_count": 18,
     "metadata": {},
     "output_type": "execute_result"
    }
   ],
   "source": [
    "books"
   ]
  },
  {
   "cell_type": "markdown",
   "id": "b758167b-8faf-4cee-ad73-d0507a2c5476",
   "metadata": {},
   "source": [
    "characters = []\n",
    "\n",
    "for book in books:\n",
    "    #go to book page\n",
    "    driver.get(book['url'])\n",
    "    #character_names = driver.find_elements(By.CLASS_NAME, \"category-page__member-link\")\n",
    "    \n",
    "    for name in character_names:\n",
    "        characters.append({'book':book['book_name'], 'character':name.text})"
   ]
  },
  {
   "cell_type": "code",
   "execution_count": 20,
   "id": "2567e276-b5d9-4a40-9952-12c339d58fb7",
   "metadata": {},
   "outputs": [],
   "source": [
    "characters = []\n",
    "\n",
    "for book in books:\n",
    "    #go to book page\n",
    "    driver.get(book['url'])\n",
    "    character_names = [name.text for name in driver.find_elements(By.CLASS_NAME, \"category-page__member-link\")]\n",
    "    \n",
    "    for name in character_names:\n",
    "        characters.append({'book':book['book_name'], 'character':name})"
   ]
  },
  {
   "cell_type": "markdown",
   "id": "3d6377bf-0c59-485d-b5df-823838891969",
   "metadata": {},
   "source": [
    "So all of that data has been scraped succesfully. Now, I need to just transform this into a pandas dataframe like so:"
   ]
  },
  {
   "cell_type": "code",
   "execution_count": null,
   "id": "c766ba4d-5d2d-4ab0-aa9e-5038bdf91280",
   "metadata": {},
   "outputs": [],
   "source": [
    "pd.DataFrame(characters)"
   ]
  },
  {
   "cell_type": "code",
   "execution_count": null,
   "id": "2e298027-e44b-4136-9337-e105e47daa13",
   "metadata": {},
   "outputs": [],
   "source": [
    "characterscrap = pd.DataFrame(characters)"
   ]
  },
  {
   "cell_type": "markdown",
   "id": "7738e9b9-0038-4faa-bef2-6e7e280d3f41",
   "metadata": {},
   "source": [
    "## L2: Generating the CSV file"
   ]
  },
  {
   "cell_type": "code",
   "execution_count": 26,
   "id": "6636217f-b2e0-41eb-a790-8c512acbb84f",
   "metadata": {},
   "outputs": [],
   "source": [
    "#characterscrap.to_csv('characters.csv', index=False)"
   ]
  },
  {
   "cell_type": "code",
   "execution_count": 24,
   "id": "7d40c866-ecf4-435d-b75b-03695a0a2ee8",
   "metadata": {},
   "outputs": [
    {
     "data": {
      "text/plain": [
       "<function matplotlib.pyplot.show(close=None, block=None)>"
      ]
     },
     "execution_count": 24,
     "metadata": {},
     "output_type": "execute_result"
    },
    {
     "data": {
      "image/png": "[encoded data removed]",
      "text/plain": [
       "<Figure size 432x288 with 1 Axes>"
      ]
     },
     "metadata": {
      "needs_background": "light"
     },
     "output_type": "display_data"
    }
   ],
   "source": [
    "#creating a barplot to see which book has the most number of characters\n",
    "#this will be achieved with the help of value_counts\n",
    "import matplotlib.pyplot as plt\n",
    "characters = pd.read_csv('characters.csv')\n",
    "characters['book'].value_counts().plot(kind='bar', color='pink')\n",
    "\n",
    "plt.show"
   ]
  },
  {
   "cell_type": "markdown",
   "id": "7fbaf6ce-a1f4-4f6c-95b0-5dbc26916ae8",
   "metadata": {},
   "source": [
    "So the book The Lady of the Lake has the most number of characters, hitting a number of 200!"
   ]
  },
  {
   "cell_type": "markdown",
   "id": "9c41c5b3-98a3-49a1-b775-a34eb9b0a2d7",
   "metadata": {
    "tags": []
   },
   "source": [
    "##### I now have a proper dataset of all the characters. This dataset can now be used for relationship extraction too."
   ]
  },
  {
   "cell_type": "code",
   "execution_count": null,
   "id": "d3a8db99-2544-445c-8bd2-289fffbebba0",
   "metadata": {},
   "outputs": [],
   "source": []
  }
 ],
 "metadata": {
  "kernelspec": {
   "display_name": "Python 3 (ipykernel)",
   "language": "python",
   "name": "python3"
  },
  "language_info": {
   "codemirror_mode": {
    "name": "ipython",
    "version": 3
   },
   "file_extension": ".py",
   "mimetype": "text/x-python",
   "name": "python",
   "nbconvert_exporter": "python",
   "pygments_lexer": "ipython3",
   "version": "3.9.7"
  }
 },
 "nbformat": 4,
 "nbformat_minor": 5
}
